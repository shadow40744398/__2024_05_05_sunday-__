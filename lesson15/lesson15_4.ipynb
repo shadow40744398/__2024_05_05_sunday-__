{
 "cells": [
  {
   "cell_type": "code",
   "execution_count": 2,
   "metadata": {},
   "outputs": [
    {
     "data": {
      "text/plain": [
       "array([[ 52,  75,  76,  58,  68],\n",
       "       [ 81,  76,  52,  56,  56],\n",
       "       [ 77,  50,  74,  59,  56],\n",
       "       [ 66,  52,  74,  52,  77],\n",
       "       [ 81,  96,  51,  85,  97],\n",
       "       [ 91,  86,  69,  82,  95],\n",
       "       [ 68,  76,  90,  78,  79],\n",
       "       [ 67,  91,  68,  65,  99],\n",
       "       [ 64,  78,  81,  51,  91],\n",
       "       [100,  94,  78,  91, 100],\n",
       "       [ 94,  54,  58,  51,  56],\n",
       "       [ 61,  79,  69,  94,  56],\n",
       "       [ 99,  54,  64,  52,  64],\n",
       "       [ 85,  62,  64,  60,  76],\n",
       "       [ 55,  57,  81,  88,  78],\n",
       "       [ 80,  53,  71,  60,  83],\n",
       "       [ 58,  90,  88,  88,  91],\n",
       "       [ 76,  82,  96,  69,  85],\n",
       "       [ 53,  94,  78,  90,  72],\n",
       "       [ 67,  52,  97, 100,  79],\n",
       "       [ 69,  54,  84,  85,  92],\n",
       "       [ 95,  83,  52,  95,  56],\n",
       "       [ 81,  62,  63,  99,  88],\n",
       "       [ 91,  63,  89,  51,  92],\n",
       "       [ 55,  61,  79,  62,  62],\n",
       "       [ 96,  85,  83,  96,  68],\n",
       "       [ 62,  89,  63,  57,  70],\n",
       "       [ 54,  59,  91,  85,  87],\n",
       "       [ 60,  59,  74,  55,  94],\n",
       "       [ 51,  60,  98,  99, 100],\n",
       "       [ 61,  84,  52,  52,  94],\n",
       "       [ 84,  75,  76,  68,  84],\n",
       "       [ 60,  65,  73,  72,  68],\n",
       "       [ 90,  76,  98,  78,  93],\n",
       "       [ 72,  98,  66,  94,  62],\n",
       "       [ 54,  99,  72,  81,  51],\n",
       "       [ 72,  53,  95,  50,  88],\n",
       "       [ 97,  62,  76,  67,  87],\n",
       "       [ 89,  70,  53,  59,  96],\n",
       "       [ 59,  95,  90,  51,  85],\n",
       "       [ 64,  74,  73,  81,  75],\n",
       "       [ 74,  98,  72,  97,  55],\n",
       "       [ 95,  65,  93,  70,  89],\n",
       "       [ 79, 100,  52,  68,  78],\n",
       "       [ 94,  64,  84,  53,  71],\n",
       "       [ 72,  74,  76,  90,  93],\n",
       "       [ 60,  75,  99,  52, 100],\n",
       "       [ 89,  97,  68,  74,  78],\n",
       "       [ 77,  85,  94,  53,  85],\n",
       "       [100,  89,  82,  82,  76]])"
      ]
     },
     "execution_count": 2,
     "metadata": {},
     "output_type": "execute_result"
    }
   ],
   "source": [
    "import numpy as np\n",
    "                            #範圍50~100間,選50位學生各5個成績\n",
    "students = np.random.randint(50,101,size=(50,5))\n",
    "students"
   ]
  },
  {
   "cell_type": "code",
   "execution_count": 3,
   "metadata": {},
   "outputs": [
    {
     "data": {
      "text/plain": [
       "array([[ 72,  74,  76,  90,  93],\n",
       "       [ 60,  75,  99,  52, 100],\n",
       "       [ 89,  97,  68,  74,  78],\n",
       "       [ 77,  85,  94,  53,  85],\n",
       "       [100,  89,  82,  82,  76]])"
      ]
     },
     "execution_count": 3,
     "metadata": {},
     "output_type": "execute_result"
    }
   ],
   "source": [
    "students[0,0]# Access the first element (0,0) of the array\n",
    "students[:1,:]# Access the first row of the array\n",
    "students[:1] #前一個學生\n",
    "students[:2] #前2個學生\n",
    "students[-5:] #最後5個學生"
   ]
  },
  {
   "cell_type": "code",
   "execution_count": 4,
   "metadata": {},
   "outputs": [
    {
     "data": {
      "text/plain": [
       "array([ 68,  56,  56,  77,  97,  95,  79,  99,  91, 100,  56,  56,  64,\n",
       "        76,  78,  83,  91,  85,  72,  79,  92,  56,  88,  92,  62,  68,\n",
       "        70,  87,  94, 100,  94,  84,  68,  93,  62,  51,  88,  87,  96,\n",
       "        85,  75,  55,  89,  78,  71,  93, 100,  78,  85,  76])"
      ]
     },
     "execution_count": 4,
     "metadata": {},
     "output_type": "execute_result"
    }
   ],
   "source": [
    "students[:,0] #第一科所有分數\n",
    "students[:,-1] #最後一科所有分數"
   ]
  },
  {
   "cell_type": "code",
   "execution_count": 8,
   "metadata": {},
   "outputs": [
    {
     "data": {
      "text/plain": [
       "array([73. , 75. , 76. , 69.5, 81. ])"
      ]
     },
     "execution_count": 8,
     "metadata": {},
     "output_type": "execute_result"
    }
   ],
   "source": [
    "#axis=1 是按行操作，而 axis=0 则是按列操作。\n",
    "np.sum(students[:1]) #第一個學生總分\n",
    "np.sum(students[:2],axis=1) #前2個學生的總分 \n",
    "np.sum(students,axis=1) #全班每位學生的總分\n",
    "np.mean(students,axis=0) #每一科全班的平均\n",
    "np.median(students,axis=0) #每一科全班的中位數"
   ]
  }
 ],
 "metadata": {
  "kernelspec": {
   "display_name": "Python 3",
   "language": "python",
   "name": "python3"
  },
  "language_info": {
   "codemirror_mode": {
    "name": "ipython",
    "version": 3
   },
   "file_extension": ".py",
   "mimetype": "text/x-python",
   "name": "python",
   "nbconvert_exporter": "python",
   "pygments_lexer": "ipython3",
   "version": "3.10.14"
  }
 },
 "nbformat": 4,
 "nbformat_minor": 2
}
