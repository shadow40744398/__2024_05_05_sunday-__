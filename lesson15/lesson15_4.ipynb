{
 "cells": [
  {
   "cell_type": "code",
   "execution_count": 1,
   "metadata": {},
   "outputs": [
    {
     "data": {
      "text/plain": [
       "array([[ 71,  76,  81, 100,  81],\n",
       "       [ 61,  61,  70,  87,  61],\n",
       "       [ 67,  82,  91,  50,  67],\n",
       "       [ 68,  99,  91,  86,  61],\n",
       "       [ 97,  64,  78,  75,  51],\n",
       "       [ 82,  87,  66,  98,  68],\n",
       "       [100,  78,  86,  99,  86],\n",
       "       [ 68,  68,  63,  65,  52],\n",
       "       [ 80,  94,  82,  64,  55],\n",
       "       [ 98,  69,  59,  84,  52],\n",
       "       [ 57,  89,  88,  50,  58],\n",
       "       [ 68, 100,  89,  53,  86],\n",
       "       [ 61,  53,  95,  90,  90],\n",
       "       [ 94,  68,  75,  60,  82],\n",
       "       [ 52,  94,  66,  94,  76],\n",
       "       [ 99,  81,  77,  84,  57],\n",
       "       [ 82,  89,  98,  70,  85],\n",
       "       [ 59,  93,  98,  55,  68],\n",
       "       [ 89,  76,  89,  65,  60],\n",
       "       [ 58,  98,  85,  52,  85],\n",
       "       [ 63,  61,  52,  60,  58],\n",
       "       [ 71,  66,  84,  75, 100],\n",
       "       [ 54,  51,  66,  67,  92],\n",
       "       [ 97,  84,  83,  85,  50],\n",
       "       [ 92,  68,  88,  78,  75],\n",
       "       [ 97,  82,  77,  92,  94],\n",
       "       [ 52,  99,  53,  78,  97],\n",
       "       [ 50,  98,  51,  52,  90],\n",
       "       [ 95,  89,  67,  82,  51],\n",
       "       [ 99,  79,  92,  98,  61],\n",
       "       [ 61,  74,  64,  61,  96],\n",
       "       [ 52,  56,  79,  80,  62],\n",
       "       [ 50,  73,  51,  87,  94],\n",
       "       [ 77,  90,  71,  57,  97],\n",
       "       [ 98,  65,  92,  68,  90],\n",
       "       [ 63,  88,  99,  52,  60],\n",
       "       [ 84,  63,  73,  98,  74],\n",
       "       [ 56,  81,  62,  65,  98],\n",
       "       [ 51,  52,  59,  99,  63],\n",
       "       [ 75,  61,  98,  56,  98],\n",
       "       [ 82,  56,  62,  70,  50],\n",
       "       [ 81,  69,  65,  71,  82],\n",
       "       [ 83,  54,  89,  70,  52],\n",
       "       [ 99,  91,  70,  82,  84],\n",
       "       [ 50,  59,  67,  99,  77],\n",
       "       [ 53,  92,  86,  57,  54],\n",
       "       [ 54,  92,  93,  75,  69],\n",
       "       [ 60,  98,  71,  92,  68],\n",
       "       [ 71,  73,  77,  70,  56],\n",
       "       [ 71,  86,  87,  87,  58]])"
      ]
     },
     "execution_count": 1,
     "metadata": {},
     "output_type": "execute_result"
    }
   ],
   "source": [
    "import numpy as np\n",
    "                            #範圍50~100間,選50位學生各5個成績\n",
    "students = np.random.randint(50,101,size=(50,5))\n",
    "students"
   ]
  },
  {
   "cell_type": "code",
   "execution_count": 2,
   "metadata": {},
   "outputs": [
    {
     "data": {
      "text/plain": [
       "array([[53, 92, 86, 57, 54],\n",
       "       [54, 92, 93, 75, 69],\n",
       "       [60, 98, 71, 92, 68],\n",
       "       [71, 73, 77, 70, 56],\n",
       "       [71, 86, 87, 87, 58]])"
      ]
     },
     "execution_count": 2,
     "metadata": {},
     "output_type": "execute_result"
    }
   ],
   "source": [
    "students[0,0]# Access the first element (0,0) of the array\n",
    "students[:1,:]# Access the first row of the array\n",
    "students[:1] #前一個學生\n",
    "students[:2] #前2個學生\n",
    "students[-5:] #最後5個學生"
   ]
  },
  {
   "cell_type": "code",
   "execution_count": null,
   "metadata": {},
   "outputs": [],
   "source": [
    "students[:,0] #第一科所有分數\n",
    "students[:,-1] #最後一科所有分數"
   ]
  },
  {
   "cell_type": "code",
   "execution_count": null,
   "metadata": {},
   "outputs": [],
   "source": [
    "#axis=1 橫向\n",
    "np.sum(students[:1]) #第一個學生總分\n",
    "np.sum(students[:2],axis=1) #前2個學生的總分 \n",
    "np.sum(students,axis=1) #全班每位學生的總分\n",
    "np.mean(students,axis=0) #每一科全班的平均\n",
    "np.median(students,axis=0) #每一科全班的中位數"
   ]
  }
 ],
 "metadata": {
  "kernelspec": {
   "display_name": "Python 3",
   "language": "python",
   "name": "python3"
  },
  "language_info": {
   "codemirror_mode": {
    "name": "ipython",
    "version": 3
   },
   "file_extension": ".py",
   "mimetype": "text/x-python",
   "name": "python",
   "nbconvert_exporter": "python",
   "pygments_lexer": "ipython3",
   "version": "3.10.14"
  }
 },
 "nbformat": 4,
 "nbformat_minor": 2
}
