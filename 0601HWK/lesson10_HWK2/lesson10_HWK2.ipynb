{
 "cells": [
  {
   "cell_type": "code",
   "execution_count": null,
   "metadata": {},
   "outputs": [],
   "source": [
    "import csv\n",
    "import pyinputplus as pyip\n",
    "from pprint import pprint\n",
    "from random import choices\n",
    "\n",
    "def main():\n",
    "\tfname = \"個股日成交資訊.csv\"\n",
    "\twith open(fname, encoding=\"UTF-8\", newline='') as f:\n",
    "\t\treader = csv.DictReader(f)\n",
    "\t\tlst = list(reader)\n",
    "\t\tprint(str.format(\"{}共有 {} 筆資料\", fname.removesuffix(\".csv\"), len(lst)))\n",
    "\t\t# Too much data, just show some to demonstration\n",
    "\t\tn = pyip.inputInt(\"請輸入要隨機顯示的資料數(1~20): \", min=1, max=20)\n",
    "\t\tlst_2 = choices(lst, k=n)\n",
    "\t\tfor d in lst_2:\n",
    "\t\t\t# Get index of complete data\n",
    "\t\t\tidx = lst.index(d)\n",
    "\t\t\tprint(f\"#{idx}\")\n",
    "\t\t\tpprint(d, indent=2, sort_dicts=False)\n",
    "\n",
    "if '__main__' == __name__:\n",
    "\tmain()"
   ]
  }
 ],
 "metadata": {
  "kernelspec": {
   "display_name": "Python 3",
   "language": "python",
   "name": "python3"
  },
  "language_info": {
   "codemirror_mode": {
    "name": "ipython",
    "version": 3
   },
   "file_extension": ".py",
   "mimetype": "text/x-python",
   "name": "python",
   "nbconvert_exporter": "python",
   "pygments_lexer": "ipython3",
   "version": "3.10.14"
  }
 },
 "nbformat": 4,
 "nbformat_minor": 2
}
