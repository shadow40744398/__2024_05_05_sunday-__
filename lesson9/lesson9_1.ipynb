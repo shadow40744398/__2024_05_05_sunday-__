{
 "cells": [
  {
   "cell_type": "code",
   "execution_count": 6,
   "metadata": {},
   "outputs": [],
   "source": [
    "class Bmi:\n",
    "    @classmethod\n",
    "    def cal_bmi(cls,height:int, weight:int)->float:\n",
    "        BMI = weight / (height / 100) ** 2\n",
    "        return BMI\n",
    "    @classmethod\n",
    "    def get_status(cls,bmi:float)->str:\n",
    "        if bmi < 18.5:\n",
    "            rate = \"過輕\"\n",
    "        elif bmi < 24:\n",
    "            rate = \"正常\"\n",
    "        elif bmi < 27:\n",
    "            rate = \"過重\"\n",
    "        elif bmi < 30:\n",
    "            rate = \"輕度肥胖\"\n",
    "        elif bmi < 35:\n",
    "            rate = \"中度肥胖\"\n",
    "        else:\n",
    "            rate = \"重度肥胖\"\n",
    "        \n",
    "        return rate"
   ]
  },
  {
   "cell_type": "code",
   "execution_count": 7,
   "metadata": {},
   "outputs": [
    {
     "name": "stdout",
     "output_type": "stream",
     "text": [
      "請輸入你的名字:169\n",
      "請輸入你的身高(cm):63.0\n",
      "請輸入你的體重(kg):63.0\n",
      "\n",
      "你的名字為169 \n",
      "身高: 63.0cm\n",
      "體重: 63.0Kg\n",
      "BMI: 158.73  你屬於重度肥胖範圍\n"
     ]
    }
   ],
   "source": [
    "import pyinputplus as pyip\n",
    "\n",
    "def main()->None:\n",
    "    try:\n",
    "            name =  pyip.inputStr(\"請輸入你的名字:\")\n",
    "            print(name)\n",
    "            height = pyip.inputFloat(\"請輸入你的身高(cm):\",min=0,max=250)\n",
    "            print(height)\n",
    "            weight = pyip.inputFloat(\"請輸入你的體重(kg):\",min=0,max=200)\n",
    "            print(weight)\n",
    "\n",
    "            bmi = Bmi.cal_bmi(height, weight)\n",
    "            status = Bmi.get_status(bmi)\n",
    "\n",
    "            print(f\"\\n你的名字為{name} \\n身高: {height}cm\\n體重: {weight}Kg\")\n",
    "            print(f\"BMI: {round(bmi, 2)}  你屬於{status}範圍\")\n",
    "    except Exception as e:\n",
    "            print(f\"EXCEPTION - {type(e)}\")\n",
    "\n",
    "\n",
    "if __name__ == \"__main__\":\n",
    "    '''\n",
    "    print(\"我是被python執行的主程式\")\n",
    "    print(__name__)\n",
    "    print(type(__name__))\n",
    "    '''\n",
    "    main()"
   ]
  }
 ],
 "metadata": {
  "kernelspec": {
   "display_name": "Python 3",
   "language": "python",
   "name": "python3"
  },
  "language_info": {
   "codemirror_mode": {
    "name": "ipython",
    "version": 3
   },
   "file_extension": ".py",
   "mimetype": "text/x-python",
   "name": "python",
   "nbconvert_exporter": "python",
   "pygments_lexer": "ipython3",
   "version": "3.10.14"
  }
 },
 "nbformat": 4,
 "nbformat_minor": 2
}
