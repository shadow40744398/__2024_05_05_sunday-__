{
 "cells": [
  {
   "cell_type": "code",
   "execution_count": 3,
   "metadata": {},
   "outputs": [
    {
     "name": "stdout",
     "output_type": "stream",
     "text": [
      "BMI 計算，請輸入\n",
      "姓名: 身高(公分): 體重(公斤): \n",
      "50 - \n",
      "身高: 169.0cm\n",
      "體重: 63.0Kg\n",
      "BMI: 22.06  體重正常\n"
     ]
    }
   ],
   "source": [
    "# BMI 計算 (with function)\n",
    "# BMI = weight(kg) / height(m)^2\n",
    "\n",
    "import pyinputplus as pyip\n",
    "\n",
    "def cal_bmi(height:float, weight:float)->float:\n",
    "\treturn weight / (height / 100)**2\n",
    "\n",
    "def get_status(bmi: float)->str:\n",
    "\tif bmi < 18.5:\n",
    "\t\treturn \"過輕\"\n",
    "\telif bmi >= 18.5 and bmi < 24:\n",
    "\t\treturn \"正常\"\n",
    "\telif bmi >= 24 and bmi < 27:\n",
    "\t\treturn \"過重\"\n",
    "\telif bmi >= 27 and bmi < 30:\n",
    "\t\treturn \"輕度肥胖\"\n",
    "\telif bmi >= 30 and bmi < 35:\n",
    "\t\treturn \"中度肥胖\"\n",
    "\treturn \"重度肥胖\"\n",
    "\n",
    "\n",
    "INPUT_TRY = 3\n",
    "\n",
    "print(\"BMI 計算，請輸入\")\n",
    "# Exception handling refer to https://docs.python.org/3/tutorial/errors.html\n",
    "try:\n",
    "\t# Input user information, include name, height and weight\n",
    "\tname = pyip.inputStr(\"姓名: \", limit=INPUT_TRY)\n",
    "\theight = pyip.inputFloat(\"身高(公分): \", min=0, limit=INPUT_TRY)\n",
    "\tweight = pyip.inputFloat(\"體重(公斤): \", min=0, limit=INPUT_TRY)\n",
    "\n",
    "\t# Calculate BMI and get result\n",
    "\tbmi = cal_bmi(height, weight)\n",
    "\tstatus = get_status(bmi)\n",
    "\n",
    "\t# Output user information, BMI and result\n",
    "\tprint(f\"\\n{name} - \\n身高: {height}cm\\n體重: {weight}Kg\")\n",
    "\tprint(f\"BMI: {round(bmi, 2)}  體重{status}\")\n",
    "except Exception as e:\n",
    "\tprint(f\"EXCEPTION - {type(e)}\")"
   ]
  },
  {
   "cell_type": "code",
   "execution_count": 2,
   "metadata": {},
   "outputs": [
    {
     "name": "stdout",
     "output_type": "stream",
     "text": [
      "請輸入你的名字:請輸入你的身高(cm):請輸入你的體重(kg):\n",
      "Kent \n",
      "身高: 169.0cm\n",
      "體重: 63.0Kg\n",
      "BMI: 22.06  你屬於正常範圍\n"
     ]
    }
   ],
   "source": [
    "import pyinputplus as pyip\n",
    "\n",
    "def cal_bmi(height:int,weight:int) -> float:\n",
    "    return(round(weight / ((height/100)**2),ndigits=2))\n",
    "def get_status(bmi:float)->str:\n",
    "        if bmi < 18.5:\n",
    "            status = \"過輕\"\n",
    "        elif bmi < 24:\n",
    "            status = \"正常\"\n",
    "        elif bmi < 27:\n",
    "            status = \"過重\"\n",
    "        elif bmi < 30:\n",
    "            status = \"輕度肥胖\"\n",
    "        elif bmi < 35:\n",
    "            status = \"中度肥胖\"\n",
    "        else:\n",
    "            status = \"重度肥胖\"\n",
    "        return status\n",
    "try:\n",
    "        name =  pyip.inputStr(\"請輸入你的名字:\")\n",
    "        height = pyip.inputFloat(\"請輸入你的身高(cm):\",min=0,max=250)\n",
    "        weight = pyip.inputFloat(\"請輸入你的體重(kg):\",min=0,max=200)\n",
    "\n",
    "        bmi = cal_bmi(height, weight)\n",
    "        status = get_status(bmi)\n",
    "\n",
    "        print(f\"\\n{name} \\n身高: {height}cm\\n體重: {weight}Kg\")\n",
    "        print(f\"BMI: {round(bmi, 2)}  你屬於{status}範圍\")\n",
    "except Exception as e:\n",
    "\t    print(f\"EXCEPTION - {type(e)}\")"
   ]
  }
 ],
 "metadata": {
  "kernelspec": {
   "display_name": "Python 3",
   "language": "python",
   "name": "python3"
  },
  "language_info": {
   "codemirror_mode": {
    "name": "ipython",
    "version": 3
   },
   "file_extension": ".py",
   "mimetype": "text/x-python",
   "name": "python",
   "nbconvert_exporter": "python",
   "pygments_lexer": "ipython3",
   "version": "3.10.14"
  }
 },
 "nbformat": 4,
 "nbformat_minor": 2
}
