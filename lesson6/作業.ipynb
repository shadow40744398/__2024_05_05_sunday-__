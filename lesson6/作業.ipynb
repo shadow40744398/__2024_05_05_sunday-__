{
 "cells": [
  {
   "cell_type": "code",
   "execution_count": 2,
   "metadata": {},
   "outputs": [
    {
     "name": "stdout",
     "output_type": "stream",
     "text": [
      "請輸入你的名字:請輸入你的身高(cm):請輸入你的體重(kg):\n",
      "名字:kent,\n",
      "身高:169.0,\n",
      "體重: 63.0,\n",
      "BMI:22.06,\n",
      "你屬於正常範圍\n"
     ]
    }
   ],
   "source": [
    "import pyinputplus as pypi\n",
    "\n",
    "\n",
    "name =  pypi.inputStr(\"請輸入你的名字:\")\n",
    "height = pypi.inputFloat(\"請輸入你的身高(cm):\",min=50,max=250)\n",
    "weight = pypi.inputFloat(\"請輸入你的體重(kg):\",min=0,max=200)\n",
    "bmi = float(round(weight / ((height/100)**2),ndigits=2))\n",
    "if bmi < 18.5:\n",
    "    rate = \"過輕\"\n",
    "elif bmi < 24:\n",
    "    rate = \"正常\"\n",
    "elif bmi < 27:\n",
    "    rate = \"過重\"\n",
    "elif bmi < 30:\n",
    "    rate = \"輕度肥胖\"\n",
    "elif bmi < 35:\n",
    "    rate = \"中度肥胖\"\n",
    "else:\n",
    "    rate = \"重度肥胖\"\n",
    "\n",
    "\n",
    "print(f\"\\n名字:{name},\\n身高:{height},\\n體重: {weight},\\nBMI:{bmi},\\n你屬於{rate}範圍\")\n"
   ]
  },
  {
   "cell_type": "code",
   "execution_count": 3,
   "metadata": {},
   "outputs": [
    {
     "name": "stdout",
     "output_type": "stream",
     "text": [
      "BMI 計算，請輸入\n",
      "姓名: 身高(公分): 體重(公斤): \n",
      "3 - 身高: 3.0cm,體重: 3.0Kg,BMI: 3333.33\n",
      "你的體重肥胖\n"
     ]
    }
   ],
   "source": [
    "# BMI 計算, refer to https://toolboxtw.com/zh-TW/calculator/bmi\n",
    "# BMI = weight(kg) / height(m)^2\n",
    "\n",
    "import pyinputplus as pyip\n",
    "\n",
    "INPUT_TRY = 3\n",
    "\n",
    "print(\"BMI 計算，請輸入\")\n",
    "# Exception handling refer to https://docs.python.org/3/tutorial/errors.html\n",
    "try:\n",
    "\t# Input user information, include name, height and weight\n",
    "\tname = pyip.inputStr(\"姓名: \", limit=INPUT_TRY)\n",
    "\theight = pyip.inputFloat(\"身高(公分): \", min=0, limit=INPUT_TRY)\n",
    "\tweight = pyip.inputFloat(\"體重(公斤): \", min=0, limit=INPUT_TRY)\n",
    "\n",
    "\t# Calculate BMI and get result\n",
    "\tbmi = weight / (height / 100)**2\n",
    "\tif bmi < 18.5:\n",
    "\t\tresult = \"過輕\"\n",
    "\telif bmi >= 18.5 and bmi < 24:\n",
    "\t\tresult = \"正常\"\n",
    "\telif bmi >= 24 and bmi < 27:\n",
    "\t\tresult = \"過重\"\n",
    "\telse:\n",
    "\t\tresult = \"肥胖\"\n",
    "\n",
    "\t# Output user information, BMI and result\n",
    "\tprint(f\"\\n{name} - 身高: {height}cm,體重: {weight}Kg,BMI: {round(bmi, 2)}\")\n",
    "\tprint(f\"你的體重{result}\")\n",
    "except Exception as e:\n",
    "\tprint(f\"EXCEPTION - {type(e)}\")"
   ]
  },
  {
   "cell_type": "code",
   "execution_count": 3,
   "metadata": {},
   "outputs": [
    {
     "name": "stdout",
     "output_type": "stream",
     "text": [
      "請輸入整數，求所有的公因數: 10 的因數有 1, 2, 5, 10\n"
     ]
    }
   ],
   "source": [
    "import pyinputplus as pypi\n",
    "\n",
    "try:\n",
    "\tn = pypi.inputInt(f\"請輸入整數，求所有的公因數: \", min=0)\n",
    "\tprint(f\"{n} 的因數有 \", end='')\n",
    "\tfor i in range(1, n+1):\n",
    "\t\tif n % i == 0:\n",
    "\t\t\tif i >= n:\n",
    "\t\t\t\tprint(i)\n",
    "\t\t\telse:\n",
    "\t\t\t\tprint(i, end=', ')\n",
    "\t#print()\n",
    "except Exception as e:\n",
    "\tprint(f\"EXCEPTION - {type(e)}\")"
   ]
  },
  {
   "cell_type": "code",
   "execution_count": 6,
   "metadata": {},
   "outputs": [
    {
     "name": "stdout",
     "output_type": "stream",
     "text": [
      "請輸入整數，求所有公因數: 10的因數為:  1 2 5 10 "
     ]
    }
   ],
   "source": [
    "import pyinputplus as pypi\n",
    "\n",
    "n = pypi.inputInt(f\"請輸入整數，求所有公因數: \", min=0)\n",
    "\n",
    "print(f\"{n}的因數為: \",end=\" \")\n",
    "for i in range(1 , n + 1):\n",
    "    if n % i == 0:\n",
    "        print(i ,end=\" \")"
   ]
  },
  {
   "cell_type": "code",
   "execution_count": 2,
   "metadata": {},
   "outputs": [
    {
     "name": "stdout",
     "output_type": "stream",
     "text": [
      "請輸入整數求因數: 10\n",
      "10 的因數有: [1, 2, 5, 10]\n"
     ]
    }
   ],
   "source": [
    "import pyinputplus as pypi\n",
    "from math import *\n",
    "\n",
    "n = pypi.inputInt(\"請輸入整數求因數: \")\n",
    "print(n)\n",
    "num = []\n",
    "for i in range(1, n+1):\n",
    "    if n % i == 0:\n",
    "        num.append(i)\n",
    "print(f\"{n} 的因數有: {num}\")"
   ]
  },
  {
   "cell_type": "code",
   "execution_count": 1,
   "metadata": {},
   "outputs": [
    {
     "name": "stdout",
     "output_type": "stream",
     "text": [
      "請輸入整數以求出所有的因數: 10\n",
      "10的因數為:  1 2 5 10 \n",
      "程式結束\n"
     ]
    }
   ],
   "source": [
    "import pyinputplus as pypi\n",
    "\n",
    "n = pypi.inputInt(\"請輸入整數以求出所有的因數: \",min=0)\n",
    "print(n)\n",
    "\n",
    "print(f\"{n}的因數為: \",end=\" \")\n",
    "for i in range(1 , n + 1):\n",
    "    if n % i == 0:\n",
    "        print(i ,end=\" \")\n",
    "\n",
    "print()\n",
    "print(\"程式結束\")"
   ]
  }
 ],
 "metadata": {
  "kernelspec": {
   "display_name": "Python 3",
   "language": "python",
   "name": "python3"
  },
  "language_info": {
   "codemirror_mode": {
    "name": "ipython",
    "version": 3
   },
   "file_extension": ".py",
   "mimetype": "text/x-python",
   "name": "python",
   "nbconvert_exporter": "python",
   "pygments_lexer": "ipython3",
   "version": "3.10.14"
  }
 },
 "nbformat": 4,
 "nbformat_minor": 2
}
