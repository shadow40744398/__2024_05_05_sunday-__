{
 "cells": [
  {
   "cell_type": "code",
   "execution_count": null,
   "metadata": {},
   "outputs": [],
   "source": [
    "import csv\n",
    "from csv import DictReader\n",
    "with open('個股日成交資訊.csv',encoding='utf-8',newline='') as file:\n",
    "   reader:DictReader = csv.DictReader(file)\n",
    "   stocks:list[dict] = list(reader)\n",
    "\n",
    "stocks"
   ]
  },
  {
   "cell_type": "code",
   "execution_count": 2,
   "metadata": {},
   "outputs": [],
   "source": [
    "from pydantic import BaseModel,Field,ValidationError,field_validator,RootModel\n",
    "\n",
    "class Stock(BaseModel):\n",
    "    證券名稱:str\n",
    "    成交股數:str\n",
    "    成交金額:str\n",
    "    最低價:float\n",
    "    最高價:float\n",
    "    成交筆數:str\n",
    "\n",
    "    @field_validator('最低價','最高價',mode='before')\n",
    "    @classmethod\n",
    "    def for_lowest_highest(cls,value:str) -> str:\n",
    "        return ''.join(value.split(','))\n",
    "\n",
    "\n",
    "\n",
    "class Root(RootModel):\n",
    "    root:list[Stock]\n",
    "\n",
    "root:Root = Root.model_validate(stocks)"
   ]
  },
  {
   "cell_type": "code",
   "execution_count": null,
   "metadata": {},
   "outputs": [],
   "source": [
    "stock_list:list[dict] = root.model_dump()\n",
    "stock_list"
   ]
  },
  {
   "cell_type": "code",
   "execution_count": 4,
   "metadata": {},
   "outputs": [
    {
     "data": {
      "text/plain": [
       "3600.0"
      ]
     },
     "execution_count": 4,
     "metadata": {},
     "output_type": "execute_result"
    }
   ],
   "source": [
    "float(''.join('3,600.00'.split(',')))"
   ]
  },
  {
   "cell_type": "code",
   "execution_count": 5,
   "metadata": {},
   "outputs": [
    {
     "data": {
      "text/plain": [
       "600.0"
      ]
     },
     "execution_count": 5,
     "metadata": {},
     "output_type": "execute_result"
    }
   ],
   "source": [
    "float(''.join('600.00'.split(',')))"
   ]
  }
 ],
 "metadata": {
  "kernelspec": {
   "display_name": "Python 3",
   "language": "python",
   "name": "python3"
  },
  "language_info": {
   "codemirror_mode": {
    "name": "ipython",
    "version": 3
   },
   "file_extension": ".py",
   "mimetype": "text/x-python",
   "name": "python",
   "nbconvert_exporter": "python",
   "pygments_lexer": "ipython3",
   "version": "3.10.14"
  }
 },
 "nbformat": 4,
 "nbformat_minor": 2
}
