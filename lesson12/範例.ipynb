{
 "cells": [
  {
   "cell_type": "code",
   "execution_count": 2,
   "metadata": {},
   "outputs": [
    {
     "ename": "KeyError",
     "evalue": "'場站目前車輛數量'",
     "output_type": "error",
     "traceback": [
      "\u001b[0;31m---------------------------------------------------------------------------\u001b[0m",
      "\u001b[0;31mKeyError\u001b[0m                                  Traceback (most recent call last)",
      "Cell \u001b[0;32mIn[2], line 57\u001b[0m\n\u001b[1;32m     54\u001b[0m             pprint(sta, indent\u001b[38;5;241m=\u001b[39m\u001b[38;5;241m2\u001b[39m, sort_dicts\u001b[38;5;241m=\u001b[39m\u001b[38;5;28;01mFalse\u001b[39;00m)\n\u001b[1;32m     56\u001b[0m \u001b[38;5;28;01mif\u001b[39;00m \u001b[38;5;18m__name__\u001b[39m \u001b[38;5;241m==\u001b[39m \u001b[38;5;124m'\u001b[39m\u001b[38;5;124m__main__\u001b[39m\u001b[38;5;124m'\u001b[39m:\n\u001b[0;32m---> 57\u001b[0m      \u001b[43mmain\u001b[49m\u001b[43m(\u001b[49m\u001b[43m)\u001b[49m\n",
      "Cell \u001b[0;32mIn[2], line 35\u001b[0m, in \u001b[0;36mmain\u001b[0;34m()\u001b[0m\n\u001b[1;32m     33\u001b[0m data_list:\u001b[38;5;28mlist\u001b[39m[\u001b[38;5;28mdict\u001b[39m] \u001b[38;5;241m=\u001b[39m root\u001b[38;5;241m.\u001b[39mmodel_dump()\n\u001b[1;32m     34\u001b[0m filter_list:\u001b[38;5;28mlist\u001b[39m[\u001b[38;5;28mdict\u001b[39m] \u001b[38;5;241m=\u001b[39m \u001b[38;5;28mlist\u001b[39m(\u001b[38;5;28mfilter\u001b[39m(\u001b[38;5;28;01mlambda\u001b[39;00m item:\u001b[38;5;28;01mFalse\u001b[39;00m \u001b[38;5;28;01mif\u001b[39;00m item[\u001b[38;5;124m'\u001b[39m\u001b[38;5;124mact\u001b[39m\u001b[38;5;124m'\u001b[39m]\u001b[38;5;241m==\u001b[39m\u001b[38;5;241m0\u001b[39m \u001b[38;5;28;01melse\u001b[39;00m \u001b[38;5;28;01mTrue\u001b[39;00m,data_list))\n\u001b[0;32m---> 35\u001b[0m filter_list_rent_less3:\u001b[38;5;28mlist\u001b[39m[\u001b[38;5;28mdict\u001b[39m] \u001b[38;5;241m=\u001b[39m \u001b[38;5;28;43mlist\u001b[39;49m\u001b[43m(\u001b[49m\u001b[38;5;28;43mfilter\u001b[39;49m\u001b[43m(\u001b[49m\u001b[38;5;28;43;01mlambda\u001b[39;49;00m\u001b[43m \u001b[49m\u001b[43mitem\u001b[49m\u001b[43m:\u001b[49m\u001b[38;5;28;43;01mTrue\u001b[39;49;00m\u001b[43m \u001b[49m\u001b[38;5;28;43;01mif\u001b[39;49;00m\u001b[43m \u001b[49m\u001b[43mitem\u001b[49m\u001b[43m[\u001b[49m\u001b[38;5;124;43m'\u001b[39;49m\u001b[38;5;124;43m場站目前車輛數量\u001b[39;49m\u001b[38;5;124;43m'\u001b[39;49m\u001b[43m]\u001b[49m\u001b[38;5;241;43m<\u001b[39;49m\u001b[38;5;241;43m3\u001b[39;49m\u001b[43m \u001b[49m\u001b[38;5;28;43;01melse\u001b[39;49;00m\u001b[43m \u001b[49m\u001b[38;5;28;43;01mFalse\u001b[39;49;00m\u001b[43m,\u001b[49m\u001b[43mdata_list\u001b[49m\u001b[43m)\u001b[49m\u001b[43m)\u001b[49m\n\u001b[1;32m     36\u001b[0m filter_list_return_less3:\u001b[38;5;28mlist\u001b[39m[\u001b[38;5;28mdict\u001b[39m] \u001b[38;5;241m=\u001b[39m \u001b[38;5;28mlist\u001b[39m(\u001b[38;5;28mfilter\u001b[39m(\u001b[38;5;28;01mlambda\u001b[39;00m item:\u001b[38;5;28;01mTrue\u001b[39;00m \u001b[38;5;28;01mif\u001b[39;00m item[\u001b[38;5;124m'\u001b[39m\u001b[38;5;124m空位數量\u001b[39m\u001b[38;5;124m'\u001b[39m]\u001b[38;5;241m<\u001b[39m\u001b[38;5;241m3\u001b[39m \u001b[38;5;28;01melse\u001b[39;00m \u001b[38;5;28;01mFalse\u001b[39;00m,data_list))\n\u001b[1;32m     38\u001b[0m \u001b[38;5;28mprint\u001b[39m(\u001b[38;5;124mf\u001b[39m\u001b[38;5;124m\"\u001b[39m\u001b[38;5;124m台北市YouBike有\u001b[39m\u001b[38;5;132;01m{\u001b[39;00m\u001b[38;5;28mlen\u001b[39m(data_list)\u001b[38;5;132;01m}\u001b[39;00m\u001b[38;5;124m站點，目前正常運作站點共\u001b[39m\u001b[38;5;132;01m{\u001b[39;00m\u001b[38;5;28mlen\u001b[39m(filter_list)\u001b[38;5;132;01m}\u001b[39;00m\u001b[38;5;124m個\u001b[39m\u001b[38;5;124m\"\u001b[39m)\n",
      "Cell \u001b[0;32mIn[2], line 35\u001b[0m, in \u001b[0;36mmain.<locals>.<lambda>\u001b[0;34m(item)\u001b[0m\n\u001b[1;32m     33\u001b[0m data_list:\u001b[38;5;28mlist\u001b[39m[\u001b[38;5;28mdict\u001b[39m] \u001b[38;5;241m=\u001b[39m root\u001b[38;5;241m.\u001b[39mmodel_dump()\n\u001b[1;32m     34\u001b[0m filter_list:\u001b[38;5;28mlist\u001b[39m[\u001b[38;5;28mdict\u001b[39m] \u001b[38;5;241m=\u001b[39m \u001b[38;5;28mlist\u001b[39m(\u001b[38;5;28mfilter\u001b[39m(\u001b[38;5;28;01mlambda\u001b[39;00m item:\u001b[38;5;28;01mFalse\u001b[39;00m \u001b[38;5;28;01mif\u001b[39;00m item[\u001b[38;5;124m'\u001b[39m\u001b[38;5;124mact\u001b[39m\u001b[38;5;124m'\u001b[39m]\u001b[38;5;241m==\u001b[39m\u001b[38;5;241m0\u001b[39m \u001b[38;5;28;01melse\u001b[39;00m \u001b[38;5;28;01mTrue\u001b[39;00m,data_list))\n\u001b[0;32m---> 35\u001b[0m filter_list_rent_less3:\u001b[38;5;28mlist\u001b[39m[\u001b[38;5;28mdict\u001b[39m] \u001b[38;5;241m=\u001b[39m \u001b[38;5;28mlist\u001b[39m(\u001b[38;5;28mfilter\u001b[39m(\u001b[38;5;28;01mlambda\u001b[39;00m item:\u001b[38;5;28;01mTrue\u001b[39;00m \u001b[38;5;28;01mif\u001b[39;00m \u001b[43mitem\u001b[49m\u001b[43m[\u001b[49m\u001b[38;5;124;43m'\u001b[39;49m\u001b[38;5;124;43m場站目前車輛數量\u001b[39;49m\u001b[38;5;124;43m'\u001b[39;49m\u001b[43m]\u001b[49m\u001b[38;5;241m<\u001b[39m\u001b[38;5;241m3\u001b[39m \u001b[38;5;28;01melse\u001b[39;00m \u001b[38;5;28;01mFalse\u001b[39;00m,data_list))\n\u001b[1;32m     36\u001b[0m filter_list_return_less3:\u001b[38;5;28mlist\u001b[39m[\u001b[38;5;28mdict\u001b[39m] \u001b[38;5;241m=\u001b[39m \u001b[38;5;28mlist\u001b[39m(\u001b[38;5;28mfilter\u001b[39m(\u001b[38;5;28;01mlambda\u001b[39;00m item:\u001b[38;5;28;01mTrue\u001b[39;00m \u001b[38;5;28;01mif\u001b[39;00m item[\u001b[38;5;124m'\u001b[39m\u001b[38;5;124m空位數量\u001b[39m\u001b[38;5;124m'\u001b[39m]\u001b[38;5;241m<\u001b[39m\u001b[38;5;241m3\u001b[39m \u001b[38;5;28;01melse\u001b[39;00m \u001b[38;5;28;01mFalse\u001b[39;00m,data_list))\n\u001b[1;32m     38\u001b[0m \u001b[38;5;28mprint\u001b[39m(\u001b[38;5;124mf\u001b[39m\u001b[38;5;124m\"\u001b[39m\u001b[38;5;124m台北市YouBike有\u001b[39m\u001b[38;5;132;01m{\u001b[39;00m\u001b[38;5;28mlen\u001b[39m(data_list)\u001b[38;5;132;01m}\u001b[39;00m\u001b[38;5;124m站點，目前正常運作站點共\u001b[39m\u001b[38;5;132;01m{\u001b[39;00m\u001b[38;5;28mlen\u001b[39m(filter_list)\u001b[38;5;132;01m}\u001b[39;00m\u001b[38;5;124m個\u001b[39m\u001b[38;5;124m\"\u001b[39m)\n",
      "\u001b[0;31mKeyError\u001b[0m: '場站目前車輛數量'"
     ]
    }
   ],
   "source": [
    "import requests\n",
    "import pyinputplus as pyip\n",
    "from pprint import pprint\n",
    "from requests import Response\n",
    "from pydantic import BaseModel,RootModel,Field,ValidationError,field_validator\n",
    "from random import choices\n",
    "\n",
    "class UB(BaseModel):\n",
    "\tsna:str = Field(alias='sna') #  站點名稱\n",
    "\tsarea:str = Field(alias='sarea')# 站點區域\n",
    "\tmday:str = Field(alias='mday')# 資料更新時間\n",
    "\tar:str  = Field(alias='ar') # 站點地址\n",
    "\tact:bool  # 是否可用\n",
    "\ttotal:int = Field(alias='total')# 總車位數\n",
    "\tavailable_rent_bikes:int = Field(alias='available_rent_bikes')# 可租借車輛數\n",
    "\tlatitude:float  = Field(alias='latitude') # 緯度\n",
    "\tlongitude:float  = Field(alias='longitude')# 經度\n",
    "\tavailable_return_bikes:int = Field(alias='available_return_bikes') # 可還車位數\n",
    "\n",
    "class Root(RootModel):\n",
    "    root:list[UB]\n",
    "\n",
    "def main():\n",
    "    youbike_url = 'https://tcgbusfs.blob.core.windows.net/dotapp/youbike/v2/youbike_immediate.json'\n",
    "    res:Response = requests.get(youbike_url)\n",
    "    all_data = res.json()\n",
    "\n",
    "    try:\n",
    "        root:Root = Root.model_validate(all_data)\n",
    "    except ValidationError as error:\n",
    "            print(error)\n",
    "\n",
    "    data_list:list[dict] = root.model_dump()\n",
    "    filter_list:list[dict] = list(filter(lambda item:False if item['act']==0 else True,data_list))\n",
    "    filter_list_rent_less3:list[dict] = list(filter(lambda item:True if item['場站目前車輛數量']<3 else False,data_list))\n",
    "    filter_list_return_less3:list[dict] = list(filter(lambda item:True if item['空位數量']<3 else False,data_list))\n",
    "\n",
    "    print(f\"台北市YouBike有{len(data_list)}站點，目前正常運作站點共{len(filter_list)}個\")\n",
    "\n",
    "    num = pyip.inputInt(\"請輸入隨機顯示的站點數(1~5): \", min=1, max=5)\n",
    "    print(num)\n",
    "\n",
    "    print(f\"\\n可借車輛數為3輛以內的站點有{len(filter_list_rent_less3)}站\")\n",
    "    num_list:list[dict] = choices(filter_list_rent_less3, k=num)\n",
    "    for sta in num_list:\n",
    "            seq = filter_list_rent_less3.index(sta)\n",
    "            print(f\"No.{seq}\")\n",
    "            pprint(sta, indent=2, sort_dicts=False)\n",
    "    print(f\"\\n可還車輛數為3輛以內的站點有{len(filter_list_return_less3)}站\")\n",
    "    num_list:list[dict] = choices(filter_list_return_less3, k=num)\n",
    "    for sta in num_list:\n",
    "            seq = filter_list_return_less3.index(sta)\n",
    "            print(f\"No.{seq}\")\n",
    "            pprint(sta, indent=2, sort_dicts=False)\n",
    "\n",
    "if __name__ == '__main__':\n",
    "     main()\n",
    "\n",
    "    "
   ]
  }
 ],
 "metadata": {
  "kernelspec": {
   "display_name": "Python 3",
   "language": "python",
   "name": "python3"
  },
  "language_info": {
   "codemirror_mode": {
    "name": "ipython",
    "version": 3
   },
   "file_extension": ".py",
   "mimetype": "text/x-python",
   "name": "python",
   "nbconvert_exporter": "python",
   "pygments_lexer": "ipython3",
   "version": "3.10.14"
  }
 },
 "nbformat": 4,
 "nbformat_minor": 2
}
