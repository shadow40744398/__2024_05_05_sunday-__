{
 "cells": [
  {
   "cell_type": "code",
   "execution_count": 3,
   "metadata": {},
   "outputs": [
    {
     "name": "stdout",
     "output_type": "stream",
     "text": [
      "[{\"type\":\"missing\",\"loc\":[\"sbi\"],\"msg\":\"Field required\",\"input\":{\"sno\":\"500101001\",\"sna\":\"YouBike2.0_捷運科技大樓站\",\"sarea\":\"大安區\",\"mday\":\"2024-06-14 18:54:21\",\"ar\":\"復興南路二段235號前\",\"sareaen\":\"Daan Dist.\",\"snaen\":\"YouBike2.0_MRT Technology Bldg. Sta.\",\"aren\":\"No.235， Sec. 2， Fuxing S. Rd.\",\"act\":\"1\",\"srcUpdateTime\":\"2024-06-14 18:56:26\",\"updateTime\":\"2024-06-14 18:56:52\",\"infoTime\":\"2024-06-14 18:54:21\",\"infoDate\":\"2024-06-14\",\"total\":28,\"available_rent_bikes\":2,\"latitude\":25.02605,\"longitude\":121.5436,\"available_return_bikes\":26},\"url\":\"https://errors.pydantic.dev/2.7/v/missing\"},{\"type\":\"missing\",\"loc\":[\"lat\"],\"msg\":\"Field required\",\"input\":{\"sno\":\"500101001\",\"sna\":\"YouBike2.0_捷運科技大樓站\",\"sarea\":\"大安區\",\"mday\":\"2024-06-14 18:54:21\",\"ar\":\"復興南路二段235號前\",\"sareaen\":\"Daan Dist.\",\"snaen\":\"YouBike2.0_MRT Technology Bldg. Sta.\",\"aren\":\"No.235， Sec. 2， Fuxing S. Rd.\",\"act\":\"1\",\"srcUpdateTime\":\"2024-06-14 18:56:26\",\"updateTime\":\"2024-06-14 18:56:52\",\"infoTime\":\"2024-06-14 18:54:21\",\"infoDate\":\"2024-06-14\",\"total\":28,\"available_rent_bikes\":2,\"latitude\":25.02605,\"longitude\":121.5436,\"available_return_bikes\":26},\"url\":\"https://errors.pydantic.dev/2.7/v/missing\"},{\"type\":\"missing\",\"loc\":[\"lng\"],\"msg\":\"Field required\",\"input\":{\"sno\":\"500101001\",\"sna\":\"YouBike2.0_捷運科技大樓站\",\"sarea\":\"大安區\",\"mday\":\"2024-06-14 18:54:21\",\"ar\":\"復興南路二段235號前\",\"sareaen\":\"Daan Dist.\",\"snaen\":\"YouBike2.0_MRT Technology Bldg. Sta.\",\"aren\":\"No.235， Sec. 2， Fuxing S. Rd.\",\"act\":\"1\",\"srcUpdateTime\":\"2024-06-14 18:56:26\",\"updateTime\":\"2024-06-14 18:56:52\",\"infoTime\":\"2024-06-14 18:54:21\",\"infoDate\":\"2024-06-14\",\"total\":28,\"available_rent_bikes\":2,\"latitude\":25.02605,\"longitude\":121.5436,\"available_return_bikes\":26},\"url\":\"https://errors.pydantic.dev/2.7/v/missing\"},{\"type\":\"missing\",\"loc\":[\"bemp\"],\"msg\":\"Field required\",\"input\":{\"sno\":\"500101001\",\"sna\":\"YouBike2.0_捷運科技大樓站\",\"sarea\":\"大安區\",\"mday\":\"2024-06-14 18:54:21\",\"ar\":\"復興南路二段235號前\",\"sareaen\":\"Daan Dist.\",\"snaen\":\"YouBike2.0_MRT Technology Bldg. Sta.\",\"aren\":\"No.235， Sec. 2， Fuxing S. Rd.\",\"act\":\"1\",\"srcUpdateTime\":\"2024-06-14 18:56:26\",\"updateTime\":\"2024-06-14 18:56:52\",\"infoTime\":\"2024-06-14 18:54:21\",\"infoDate\":\"2024-06-14\",\"total\":28,\"available_rent_bikes\":2,\"latitude\":25.02605,\"longitude\":121.5436,\"available_return_bikes\":26},\"url\":\"https://errors.pydantic.dev/2.7/v/missing\"}]\n"
     ]
    }
   ],
   "source": [
    "import requests\n",
    "from requests import Response\n",
    "from pprint import pprint\n",
    "from pydantic import BaseModel, Field, ValidationError, root_validator\n",
    "from typing import List\n",
    "\n",
    "class UBike(BaseModel):\n",
    "    sna: str  # 站點名稱\n",
    "    sarea: str  # 站點區域\n",
    "    mday: str  # 資料更新時間\n",
    "    ar: str  # 站點地址\n",
    "    act: bool  # 是否可用\n",
    "    total: int  # 總車位數\n",
    "    available_rent_bikes: int = Field(..., alias='sbi')  # 可租借車輛數\n",
    "    latitude: float = Field(..., alias='lat')  # 緯度\n",
    "    longitude: float  # 經度\n",
    "    available_return_bikes: int = Field(..., alias='bemp')  # 可還車位數\n",
    "\n",
    "    #@root_validator(pre=True)\n",
    "    def parse_fields(cls, values):\n",
    "        # 將 'act' 字段轉換為布爾值\n",
    "        values['act'] = values['act'] == '1'\n",
    "        return values\n",
    "\n",
    "class UBikeRoot(BaseModel):\n",
    "    root: List[UBike]  # UBike 的列表\n",
    "\n",
    "def main():\n",
    "    youbike_url = 'https://tcgbusfs.blob.core.windows.net/dotapp/youbike/v2/youbike_immediate.json'\n",
    "    res: Response = requests.get(youbike_url)\n",
    "    data = res.json()\n",
    "\n",
    "    try:\n",
    "        # 解析數據\n",
    "        ubike_root = UBikeRoot(root=[UBike(**item) for item in data])\n",
    "        \n",
    "        # 將解析後的數據轉換為字典列表\n",
    "        data_list: List[dict] = ubike_root.model_dump()[\"root\"]\n",
    "        \n",
    "        # 過濾出維護中的站點（act == False 的站點）\n",
    "        filter_list: List[dict] = [item.dict() for item in ubike_root.root if item.act]\n",
    "\n",
    "        # 過濾出可借車輛數為3輛以內的站點\n",
    "        rent_bike_stations = [station for station in filter_list if station['available_rent_bikes'] <= 3]\n",
    "\n",
    "        # 過濾出可還車輛數為3輛以內的站點\n",
    "        return_bike_stations = [station for station in filter_list if station['available_return_bikes'] <= 3]\n",
    "\n",
    "        print(\"可借車輛數為3輛以內的站點:\")\n",
    "        pprint(rent_bike_stations)\n",
    "\n",
    "        print(\"\\n可還車輛數為3輛以內的站點:\")\n",
    "        pprint(return_bike_stations)\n",
    "        \n",
    "    except ValidationError as e:\n",
    "        print(e.json())\n",
    "\n",
    "if __name__ == \"__main__\":\n",
    "    main()\n"
   ]
  }
 ],
 "metadata": {
  "kernelspec": {
   "display_name": "Python 3",
   "language": "python",
   "name": "python3"
  },
  "language_info": {
   "codemirror_mode": {
    "name": "ipython",
    "version": 3
   },
   "file_extension": ".py",
   "mimetype": "text/x-python",
   "name": "python",
   "nbconvert_exporter": "python",
   "pygments_lexer": "ipython3",
   "version": "3.10.14"
  }
 },
 "nbformat": 4,
 "nbformat_minor": 2
}
