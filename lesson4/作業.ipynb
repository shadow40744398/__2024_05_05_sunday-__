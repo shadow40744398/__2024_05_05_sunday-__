{
 "cells": [
  {
   "cell_type": "code",
   "execution_count": null,
   "metadata": {},
   "outputs": [],
   "source": [
    "# BMI 計算, refer to https://toolboxtw.com/zh-TW/calculator/bmi\n",
    "# BMI = weight(kg) / height(m)^2\n",
    "\n",
    "print(\"BMI 計算，請輸入\")\n",
    "# Input name\n",
    "name = input(\"姓名: \")\n",
    "# Input height\n",
    "height = float(input(\"身高(公分): \"))\n",
    "# Input weight\n",
    "weight = float(input(\"體重(公斤): \"))\n",
    "\n",
    "# Output user information\n",
    "bmi = weight / (height / 100)**2\n",
    "# Get the result\n",
    "if bmi < 18.5:\n",
    "\tresult = \"過輕\"\n",
    "elif bmi >= 18.5 and bmi < 24:\n",
    "\tresult = \"正常\"\n",
    "elif bmi >= 24 and bmi < 27:\n",
    "\tresult = \"過重\"\n",
    "else:\n",
    "\tresult = \"肥胖\"\n",
    "\n",
    "# Output BMI and result\n",
    "print(f\"\\n{name} - 身高: {height}cm，體重: {weight}Kg， BMI: {round(bmi, 2)}({result})\")"
   ]
  },
  {
   "cell_type": "code",
   "execution_count": 1,
   "metadata": {},
   "outputs": [
    {
     "name": "stdout",
     "output_type": "stream",
     "text": [
      "您的姓名是:1\n",
      "您的BMI值是:20.06\n"
     ]
    }
   ],
   "source": [
    "name = input(\"請輸入您的姓名\") \n",
    "height = float(input(\"請輸入您的身高(cm)\"))\n",
    "weight=float(input(\"請輸入您的體重(kg)\"))\n",
    "BMI = float(weight/(height/100)**2)\n",
    "print(f\"您的姓名是:{name}\")\n",
    "print(f\"您的BMI值是:{round(BMI,ndigits=2)}\")"
   ]
  },
  {
   "cell_type": "code",
   "execution_count": null,
   "metadata": {},
   "outputs": [],
   "source": [
    "name = input(\"請輸入您的姓名:\")\n",
    "cm = float(input(\"請輸入您的身高(cm):\"))\n",
    "weight = float(input(\"請輸入您的體重(kg):\"))\n",
    "bmi = float(round((weight / ( cm / 100 ) ** 2),ndigits=2))\n",
    "\n",
    "\n",
    "if 18.25 <= bmi <= 24:\n",
    "    bmitype = \"正常範圍\"\n",
    "else:\n",
    "    bmitype = \"異常範圍\"\n",
    "\n",
    "print(f\"個人資訊 - 姓名: {name}, 身高: {cm} cm, 體重: {weight}, BMI: {bmi}\")\n",
    "print(f\"BMI計算結果:{bmitype}\")"
   ]
  }
 ],
 "metadata": {
  "kernelspec": {
   "display_name": "Python 3",
   "language": "python",
   "name": "python3"
  },
  "language_info": {
   "codemirror_mode": {
    "name": "ipython",
    "version": 3
   },
   "file_extension": ".py",
   "mimetype": "text/x-python",
   "name": "python",
   "nbconvert_exporter": "python",
   "pygments_lexer": "ipython3",
   "version": "3.10.14"
  }
 },
 "nbformat": 4,
 "nbformat_minor": 2
}
