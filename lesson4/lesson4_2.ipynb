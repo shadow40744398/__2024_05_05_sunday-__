{
 "cells": [
  {
   "cell_type": "code",
   "execution_count": 1,
   "metadata": {},
   "outputs": [
    {
     "data": {
      "text/plain": [
       "False"
      ]
     },
     "execution_count": 1,
     "metadata": {},
     "output_type": "execute_result"
    }
   ],
   "source": [
    "3 > 5"
   ]
  },
  {
   "cell_type": "code",
   "execution_count": 3,
   "metadata": {},
   "outputs": [
    {
     "data": {
      "text/plain": [
       "True"
      ]
     },
     "execution_count": 3,
     "metadata": {},
     "output_type": "execute_result"
    }
   ],
   "source": [
    "5 >= 5"
   ]
  },
  {
   "cell_type": "code",
   "execution_count": 2,
   "metadata": {},
   "outputs": [
    {
     "data": {
      "text/plain": [
       "True"
      ]
     },
     "execution_count": 2,
     "metadata": {},
     "output_type": "execute_result"
    }
   ],
   "source": [
    "5 == 5"
   ]
  },
  {
   "cell_type": "code",
   "execution_count": 1,
   "metadata": {},
   "outputs": [
    {
     "data": {
      "text/plain": [
       "False"
      ]
     },
     "execution_count": 1,
     "metadata": {},
     "output_type": "execute_result"
    }
   ],
   "source": [
    "3 != 3"
   ]
  },
  {
   "cell_type": "code",
   "execution_count": 5,
   "metadata": {},
   "outputs": [
    {
     "name": "stdout",
     "output_type": "stream",
     "text": [
      "應用程式結束\n"
     ]
    }
   ],
   "source": [
    "age = 17\n",
    "\n",
    "#單一程式區塊\n",
    "if age >= 18:\n",
    "    print(\"可以考駕照班\")\n",
    "    print(\"有投票嗎\")\n",
    "\n",
    "print(\"應用程式結束\")"
   ]
  },
  {
   "cell_type": "code",
   "execution_count": 1,
   "metadata": {},
   "outputs": [
    {
     "name": "stdout",
     "output_type": "stream",
     "text": [
      "未成年\n",
      "應用程式結束\n"
     ]
    }
   ],
   "source": [
    "age = 17\n",
    "\n",
    "#單一程式區塊\n",
    "if age >= 18:\n",
    "    print(\"可以考駕照班\")\n",
    "    print(\"有投票嗎\")\n",
    "else:\n",
    "    print(\"未成年\")\n",
    "print(\"應用程式結束\")"
   ]
  },
  {
   "cell_type": "code",
   "execution_count": 1,
   "metadata": {},
   "outputs": [
    {
     "name": "stdout",
     "output_type": "stream",
     "text": [
      "BMI 計算，請輸入\n",
      "\n",
      "1 - 身高: 185.0cm，體重: 63.0Kg， BMI: 18.41(過輕)\n"
     ]
    }
   ],
   "source": [
    "# BMI 計算, refer to https://toolboxtw.com/zh-TW/calculator/bmi\n",
    "# BMI = weight(kg) / height(m)^2\n",
    "\n",
    "print(\"BMI 計算，請輸入\")\n",
    "# Input name\n",
    "name = input(\"姓名: \")\n",
    "# Input height\n",
    "height = float(input(\"身高(公分): \"))\n",
    "# Input weight\n",
    "weight = float(input(\"體重(公斤): \"))\n",
    "\n",
    "# Output user information\n",
    "bmi = weight / (height / 100)**2\n",
    "# Get the result\n",
    "if bmi < 18.5:\n",
    "\tresult = \"過輕\"\n",
    "elif bmi >= 18.5 and bmi < 24:\n",
    "\tresult = \"正常\"\n",
    "elif bmi >= 24 and bmi < 27:\n",
    "\tresult = \"過重\"\n",
    "else:\n",
    "\tresult = \"肥胖\"\n",
    "\n",
    "# Output BMI and result\n",
    "print(f\"\\n{name} - 身高: {height}cm，體重: {weight}Kg， BMI: {round(bmi, 2)}({result})\")"
   ]
  },
  {
   "cell_type": "code",
   "execution_count": null,
   "metadata": {},
   "outputs": [],
   "source": []
  }
 ],
 "metadata": {
  "kernelspec": {
   "display_name": "Python 3",
   "language": "python",
   "name": "python3"
  },
  "language_info": {
   "codemirror_mode": {
    "name": "ipython",
    "version": 3
   },
   "file_extension": ".py",
   "mimetype": "text/x-python",
   "name": "python",
   "nbconvert_exporter": "python",
   "pygments_lexer": "ipython3",
   "version": "3.10.14"
  }
 },
 "nbformat": 4,
 "nbformat_minor": 2
}
