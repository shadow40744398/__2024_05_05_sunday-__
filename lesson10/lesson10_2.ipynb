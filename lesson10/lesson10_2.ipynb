{
 "cells": [
  {
   "cell_type": "code",
   "execution_count": 1,
   "metadata": {},
   "outputs": [
    {
     "name": "stdout",
     "output_type": "stream",
     "text": [
      "請選擇需要的人名數量(請選擇1,2,3,4,5):\n",
      "1. 1個\n",
      "2. 2個\n",
      "3. 3個\n",
      "4. 4個\n",
      "5. 5個\n",
      "======================\n",
      "張韋成\n"
     ]
    }
   ],
   "source": [
    "import pyinputplus as pyip\n",
    "from random import choices\n",
    "\n",
    "def main():\n",
    "    with open(\"names.txt\",encoding='utf-8') as file:\n",
    "        content:str = file.read()    \n",
    "    \n",
    "    names:list[str] = content.split()\n",
    "    num_str:str = pyip.inputMenu(['1個','2個','3個','4個','5個'],\n",
    "                   prompt=\"請選擇需要的人名數量(請選擇1,2,3,4,5):\\n\",\n",
    "                   numbered=True)\n",
    "    num:int = int(num_str[0])\n",
    "    selected_name:list[str] = choices(names,k=num)\n",
    "    print(\"======================\")\n",
    "    for name in selected_name:\n",
    "        print(name)\n",
    "\n",
    "\n",
    "\n",
    "if __name__ == '__main__':\n",
    "    main()"
   ]
  }
 ],
 "metadata": {
  "kernelspec": {
   "display_name": "Python 3",
   "language": "python",
   "name": "python3"
  },
  "language_info": {
   "codemirror_mode": {
    "name": "ipython",
    "version": 3
   },
   "file_extension": ".py",
   "mimetype": "text/x-python",
   "name": "python",
   "nbconvert_exporter": "python",
   "pygments_lexer": "ipython3",
   "version": "3.10.14"
  }
 },
 "nbformat": 4,
 "nbformat_minor": 2
}
